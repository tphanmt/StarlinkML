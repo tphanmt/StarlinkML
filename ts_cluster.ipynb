{
 "cells": [
  {
   "cell_type": "code",
   "execution_count": null,
   "metadata": {},
   "outputs": [],
   "source": [
    "import numpy as np\n",
    "from tslearn.clustering import TimeSeriesKMeans\n",
    "from tslearn.preprocessing import TimeSeriesScalerMeanVariance\n",
    "import multiprocessing\n",
    "import os\n",
    "import matplotlib.pyplot as plt\n",
    "%matplotlib inline"
   ]
  },
  {
   "cell_type": "code",
   "execution_count": null,
   "metadata": {},
   "outputs": [],
   "source": [
    "starlink_data = np.load(\"starlink_data.npy\")\n",
    "print(starlink_data.shape)"
   ]
  },
  {
   "cell_type": "code",
   "execution_count": null,
   "metadata": {},
   "outputs": [],
   "source": [
    "def ts_kmeans_elbow(data: np.ndarray, num_cluster: int):\n",
    "    '''\n",
    "    Calculates the sum of squares for different number of clusters using times series K-means\n",
    "    This allows to select an optimal number of cluster\n",
    "    '''\n",
    "    sum_squares = np.zeros(num_cluster-1)\n",
    "    for i in range(2, num_cluster+1):\n",
    "        ts_kmeans = TimeSeriesKMeans(n_clusters=num_cluster, metric=\"dtw\", random_state=0, n_jobs=-1).fit(data)\n",
    "        print(ts_kmeans.inertia_)\n",
    "        sum_squares[i-2] = ts_kmeans.inertia_\n",
    "    \n",
    "    plt.figure(figsize=(12, 7.5))\n",
    "    plt.plot(np.arange(2, num_cluster+1), sum_squares)\n",
    "    plt.ylabel('Sum of Squares', fontsize = 14)\n",
    "    plt.xlabel('Number of clusters', fontsize = 14)\n",
    "    plt.show()"
   ]
  },
  {
   "cell_type": "code",
   "execution_count": null,
   "metadata": {},
   "outputs": [],
   "source": [
    "# size_nan = np.isnan(starlink_data[:,:,8:9]).sum(axis=1)\n",
    "# ind_many_nan = np.argwhere(size_nan>2000)\n",
    "\n",
    "# problem_satellite = starlink_data[ind_many_nan[0][0],:,:]\n",
    "# problem_satellite = np.nan_to_num(problem_satellite, nan = 50000)\n",
    "# t = problem_satellite[:,0]\n",
    "# h = problem_satellite[:,7:10]\n",
    "\n",
    "\n",
    "# plt.figure(figsize=(12, 7.5))\n",
    "# plt.plot(size_nan)\n",
    "# plt.ylabel('Number of NaN', fontsize = 14)\n",
    "# plt.xlabel('Satellite', fontsize = 14)\n",
    "\n",
    "# plt.show()\n",
    "\n",
    "# fig, axs =plt.subplots(3,1, sharex= True)\n",
    "# axs[0].plot(t,h[:,0])\n",
    "# axs[0].set_ylabel('h_x')\n",
    "# axs[1].plot(t,h[:,1])\n",
    "# axs[1].set_ylabel('h_y')\n",
    "# axs[2].plot(t,h[:,2])\n",
    "# axs[2].set_ylabel('h_z')\n",
    "# axs[2].set_xlabel('Time in J2000')\n",
    "# axs[0].grid(True)\n",
    "# axs[1].grid(True)\n",
    "# axs[2].grid(True)\n",
    "# fig.subplots_adjust(hspace=0)"
   ]
  },
  {
   "cell_type": "code",
   "execution_count": null,
   "metadata": {},
   "outputs": [],
   "source": [
    "time = starlink_data[:, :, 0]\n",
    "angular_momentum_x = starlink_data[:, :200, 7]\n",
    "angular_momentum_y = starlink_data[:, :200, 8]\n",
    "angular_momentum_z = starlink_data[:, :200, 9]\n",
    "\n",
    "normed_angular_momentum_x = TimeSeriesScalerMeanVariance().fit_transform(angular_momentum_x)\n",
    "normed_angular_momentum_y = TimeSeriesScalerMeanVariance().fit_transform(angular_momentum_y)\n",
    "normed_angular_momentum_z = TimeSeriesScalerMeanVariance().fit_transform(angular_momentum_z)\n",
    "\n",
    "print(time.shape)\n",
    "print(normed_angular_momentum_x.shape)"
   ]
  },
  {
   "cell_type": "code",
   "execution_count": null,
   "metadata": {},
   "outputs": [],
   "source": [
    "ts_kmeans_elbow(normed_angular_momentum_x, num_cluster=10)\n",
    "\n",
    "# ts_kmeans = TimeSeriesKMeans(n_clusters=3, metric=\"dtw\", random_state=0, n_jobs=-1)\n",
    "# ts_kmeans.fit(normed_angular_momentum_x)\n",
    "# print(ts_kmeans.inertia_)\n"
   ]
  }
 ],
 "metadata": {
  "language_info": {
   "name": "python"
  },
  "orig_nbformat": 4
 },
 "nbformat": 4,
 "nbformat_minor": 2
}
