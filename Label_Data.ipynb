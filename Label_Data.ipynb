{
 "cells": [
  {
   "cell_type": "code",
   "execution_count": 12,
   "metadata": {},
   "outputs": [],
   "source": [
    "import numpy as np\n",
    "import matplotlib.pyplot as plt\n",
    "import ipywidgets as widgets\n",
    "from IPython.display import clear_output\n",
    "%matplotlib inline"
   ]
  },
  {
   "cell_type": "code",
   "execution_count": 13,
   "metadata": {},
   "outputs": [
    {
     "name": "stdout",
     "output_type": "stream",
     "text": [
      "(1984, 8018, 10)\n"
     ]
    }
   ],
   "source": [
    "# Read in data and set nan's to zero\n",
    "starlink_data = np.load(\"starlink_data.npy\")\n",
    "starlink_data = np.nan_to_num(starlink_data, nan = 0)\n",
    "print(starlink_data.shape)"
   ]
  },
  {
   "cell_type": "code",
   "execution_count": 44,
   "metadata": {},
   "outputs": [],
   "source": [
    "sat_ind = np.arange(0,starlink_data.shape[0])\n",
    "time_ind = 1\n",
    "\n",
    "time = starlink_data[sat_ind, ::time_ind, 0]\n",
    "time = (time - 2022*10**9) *10**-6\n",
    "time = time - time[:,0:1]\n",
    "\n",
    "angular_momentum_x = starlink_data[sat_ind, ::time_ind, 7]\n",
    "angular_momentum_y = starlink_data[sat_ind, ::time_ind, 8]\n",
    "angular_momentum_z = starlink_data[sat_ind, ::time_ind, 9]\n",
    "\n",
    "position = starlink_data[ :, ::time_ind,1:4]\n",
    "radius = np.linalg.norm(position,axis =2)\n",
    "\n"
   ]
  },
  {
   "cell_type": "code",
   "execution_count": 146,
   "metadata": {},
   "outputs": [],
   "source": [
    "def plot_time_clusters(num_clusters, data,time,clusters,ax,sat_ind):\n",
    "    '''\n",
    "    plots each cluster separately with its mean for a given \n",
    "    '''\n",
    "    for i in range(0,num_clusters):\n",
    "        title = \"Cluster\" + str(i)\n",
    "        # calculates the mean position and time between each satellite\n",
    "        # radius_mean = np.nanmean(data[clusters==i,:],axis =0)\n",
    "        # time_mean = np.nanmean(time[clusters==i,:],axis =0)\n",
    "        # scatter plots each satellites value as a function of time\n",
    "        if i ==3:\n",
    "            ax[i].scatter(time[514, :],data[514, :],color = \"blue\",s =1)\n",
    "            # ax[i].set_xlim([0,2])\n",
    "        else:\n",
    "            ax[i].scatter(time[sat_ind,:][clusters==i, :][0,:],data[sat_ind,:][clusters==i, :][0,:],color = \"blue\",s =1)\n",
    "        # ax[i].plot(time_mean,radius_mean,color = \"red\")\n",
    "        ax[i].set_title(title)\n",
    "        ax[i].set_ylim([np.nanmin(radius)-50, np.nanmax(radius)+50])\n",
    "        ax[i].draw\n",
    "    plt.tight_layout()"
   ]
  },
  {
   "cell_type": "code",
   "execution_count": 95,
   "metadata": {},
   "outputs": [],
   "source": [
    "def create_labels(amount_labels,labels,radius,time):\n",
    "    '''\n",
    "    Cluster 0: Constant\n",
    "    Cluster 1: Always increasing \n",
    "    Cluster 2: Always deacreasing\n",
    "    Cluster 3: Dies at some point in the month \n",
    "    Cluster 4: constat to decrease\n",
    "    Cluster 5: increase to constant\n",
    "    '''\n",
    "    plt.scatter(time,radius)\n",
    "    plt.ylim([np.nanmin(radius)-50, np.nanmax(radius)+50])\n",
    "    plt.draw\n",
    "    plt.pause(0.1)\n",
    "    labels = int(input('Give a Cluster Number:'))\n",
    "    # plt.clf()\n",
    "    clear_output(wait=True)\n",
    "\n",
    "    return labels"
   ]
  },
  {
   "cell_type": "code",
   "execution_count": 110,
   "metadata": {
    "scrolled": false
   },
   "outputs": [],
   "source": [
    "'''\n",
    "Cluster 0: Constant\n",
    "Cluster 1: Always increasing \n",
    "Cluster 2: Always deacreasing\n",
    "Cluster 3: Dies at some point in the month \n",
    "Cluster 4: constat to decrease\n",
    "Cluster 5: increase to constant\n",
    "Cluster 6: constant to increase\n",
    "Cluster 7: decrease to constant\n",
    "'''\n",
    "amount_labels = 150\n",
    "np.random.seed(2)\n",
    "sat_ind = np.random.choice(starlink_data.shape[0],amount_labels)\n",
    "labels =np.zeros(sat_ind.shape)\n",
    "    \n",
    "\n"
   ]
  },
  {
   "cell_type": "code",
   "execution_count": null,
   "metadata": {},
   "outputs": [],
   "source": []
  },
  {
   "cell_type": "code",
   "execution_count": 151,
   "metadata": {},
   "outputs": [
    {
     "data": {
      "text/plain": [
       "Text(17.5, 0.5, 'Radius in Km')"
      ]
     },
     "execution_count": 151,
     "metadata": {},
     "output_type": "execute_result"
    },
    {
     "data": {
      "image/png": "[encoded data removed]",
      "text/plain": [
       "<Figure size 432x288 with 8 Axes>"
      ]
     },
     "metadata": {
      "needs_background": "light"
     },
     "output_type": "display_data"
    }
   ],
   "source": [
    "fig,ax =plt.subplots(nrows = 2,ncols=4,sharex=True)\n",
    "ax = ax.ravel()\n",
    "plot_time_clusters(7, radius,time,labels.T,ax,sat_ind)\n",
    "ax[4].set_xlabel('Time in Days')\n",
    "ax[5].set_xlabel('Time in Days')\n",
    "ax[6].set_xlabel('Time in Days')\n",
    "ax[7].set_xlabel('Time in Days')\n",
    "ax[0].set_ylabel('Radius in Km')\n",
    "ax[4].set_ylabel('Radius in Km')"
   ]
  },
  {
   "cell_type": "code",
   "execution_count": 113,
   "metadata": {},
   "outputs": [],
   "source": [
    "out = np.vstack([sat_ind,labels]).T\n",
    "np.savetxt('labels.txt',out,fmt = '%d')"
   ]
  },
  {
   "cell_type": "code",
   "execution_count": 102,
   "metadata": {},
   "outputs": [
    {
     "name": "stdout",
     "output_type": "stream",
     "text": [
      "(150, 2)\n"
     ]
    }
   ],
   "source": [
    "test = np.loadtxt('labels.txt',dtype = int)\n",
    "print(test.shape)"
   ]
  },
  {
   "cell_type": "code",
   "execution_count": null,
   "metadata": {},
   "outputs": [],
   "source": []
  }
 ],
 "metadata": {
  "interpreter": {
   "hash": "6a164f4fef2d124ffbd079a9c01a3c57ff4f1e0a7d7e37f35bdbd175838a1e1b"
  },
  "kernelspec": {
   "display_name": "Python 3 (ipykernel)",
   "language": "python",
   "name": "python3"
  },
  "language_info": {
   "codemirror_mode": {
    "name": "ipython",
    "version": 3
   },
   "file_extension": ".py",
   "mimetype": "text/x-python",
   "name": "python",
   "nbconvert_exporter": "python",
   "pygments_lexer": "ipython3",
   "version": "3.10.4"
  }
 },
 "nbformat": 4,
 "nbformat_minor": 2
}
