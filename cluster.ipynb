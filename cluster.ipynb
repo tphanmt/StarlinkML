{
 "cells": [
  {
   "cell_type": "code",
   "execution_count": null,
   "metadata": {},
   "outputs": [],
   "source": [
    "import numpy as np\n",
    "from sklearn.cluster import KMeans, OPTICS\n",
    "from sklearn.preprocessing import StandardScaler\n",
    "import matplotlib.pyplot as plt\n",
    "from matplotlib import animation\n",
    "import ipywidgets as widgets\n",
    "%matplotlib widget"
   ]
  },
  {
   "cell_type": "code",
   "execution_count": null,
   "metadata": {},
   "outputs": [],
   "source": [
    "starlink_data = np.load(\"starlink_data.npy\")\n",
    "starlink_data = np.nan_to_num(starlink_data, nan = 0)\n",
    "print(starlink_data.shape)"
   ]
  },
  {
   "cell_type": "code",
   "execution_count": null,
   "metadata": {},
   "outputs": [],
   "source": [
    "def kmeans_elbow(data: np.ndarray, num_cluster: int):\n",
    "    '''\n",
    "    Calculates the sum of squares for different number of clusters using K-means\n",
    "    This allows to select an optimal number of cluster\n",
    "    '''\n",
    "    sum_squares = np.zeros(len(range(2, num_cluster+1, 2)))\n",
    "    j=0\n",
    "    for i in range(2, num_cluster+1, 2):\n",
    "        kmeans = KMeans(n_clusters=i, random_state=0).fit(data)\n",
    "        print(\"Num cluster:\", i, \"Sum of squares:\", kmeans.inertia_)\n",
    "        sum_squares[j] = kmeans.inertia_\n",
    "        j+=1\n",
    "    \n",
    "    plt.figure(figsize=(12, 7.5))\n",
    "    plt.plot(np.arange(2, num_cluster+1, 2), sum_squares)\n",
    "    plt.ylabel('Sum of Squares', fontsize = 14)\n",
    "    plt.xlabel('Number of clusters', fontsize = 14)\n",
    "    plt.show()"
   ]
  },
  {
   "cell_type": "code",
   "execution_count": null,
   "metadata": {},
   "outputs": [],
   "source": [
    "\n",
    "sat_ind = np.random.choice(starlink_data.shape[0],500)\n",
    "time = starlink_data[sat_ind, :, 0]\n",
    "\n",
    "time = (time - 2022*10**9) *10**-6\n",
    "time = time - time[:,0:1]\n",
    "time[time<0] = 0\n",
    "\n",
    "\n",
    "angular_momentum_x = starlink_data[sat_ind, :, 7]\n",
    "angular_momentum_y = starlink_data[sat_ind, :, 8]\n",
    "angular_momentum_z = starlink_data[sat_ind, :, 9]\n",
    "\n",
    "normed_angular_momentum_x = StandardScaler().fit_transform(angular_momentum_x)\n",
    "normed_angular_momentum_y = StandardScaler().fit_transform(angular_momentum_y)\n",
    "normed_angular_momentum_z = StandardScaler().fit_transform(angular_momentum_z)\n",
    "\n",
    "print(time.shape)\n",
    "print(normed_angular_momentum_x.shape)\n",
    "\n"
   ]
  },
  {
   "cell_type": "code",
   "execution_count": null,
   "metadata": {},
   "outputs": [],
   "source": [
    "kmeans_elbow(np.transpose(normed_angular_momentum_x), num_cluster=20)\n",
    "kmeans_elbow(np.transpose(normed_angular_momentum_y), num_cluster=20)\n",
    "kmeans_elbow(np.transpose(normed_angular_momentum_z), num_cluster=20)\n"
   ]
  },
  {
   "cell_type": "code",
   "execution_count": null,
   "metadata": {},
   "outputs": [],
   "source": [
    "optics = OPTICS()\n",
    "optics.fit(normed_angular_momentum_x)\n",
    "print(len(np.unique(optics.labels_)))\n",
    "optics.fit(normed_angular_momentum_y)\n",
    "print(len(np.unique(optics.labels_)))\n",
    "optics.fit(normed_angular_momentum_z)\n",
    "print(len(np.unique(optics.labels_)))\n"
   ]
  },
  {
   "cell_type": "code",
   "execution_count": null,
   "metadata": {},
   "outputs": [],
   "source": [
    "radius = np.linalg.norm(starlink_data[:, :, 1:4], axis=2)\n",
    "print(radius.shape)\n",
    "\n",
    "kmeans_elbow(radius, num_cluster=20)"
   ]
  },
  {
   "cell_type": "code",
   "execution_count": null,
   "metadata": {},
   "outputs": [],
   "source": [
    "def plot_time_clusters(cluster: np.ndarray, num_clusters: int, \n",
    "            angular_momentum_x: np.ndarray,\n",
    "            angular_momentum_y: np.ndarray,\n",
    "            angular_momentum_z: np.ndarray,\n",
    "            time: np.ndarray, axis: int):\n",
    "    fig = plt.figure(figsize= (15,15))\n",
    "    fig, axs =plt.subplots(3,1, sharex= True)\n",
    "    for i in range(0,num_clusters):\n",
    "        title = \"cluster\" + str(i)\n",
    "        if axis == 0:\n",
    "            time_tmp = time[cluster == i]\n",
    "            angular_momentum_x_tmp = angular_momentum_x[cluster == i]\n",
    "            angular_momentum_y_tmp = angular_momentum_y[cluster == i]\n",
    "            angular_momentum_z_tmp = angular_momentum_z[cluster == i]\n",
    "            ind  = np.dstack(np.random.choice(time_tmp.shape[0],1))#,np.arange(0,time.shape[1])])\n",
    "        elif axis == 1:\n",
    "            time_tmp = time[:,cluster == i]\n",
    "            angular_momentum_x_tmp = angular_momentum_x[:,cluster == i]\n",
    "            angular_momentum_y_tmp = angular_momentum_y[:,cluster == i]\n",
    "            angular_momentum_z_tmp = angular_momentum_z[:,cluster == i]\n",
    "            # ind  = np.random.choice(time.shape[0],5)\n",
    "            ind = np.arange(0,time_tmp.shape[0],100)\n",
    "        axs[0].scatter(time_tmp[ind,:],angular_momentum_x_tmp[ind,:])\n",
    "        axs[0].set_ylabel('h_x')\n",
    "        axs[1].scatter(time_tmp[ind,:],angular_momentum_y_tmp[ind,:])\n",
    "        axs[1].set_ylabel('h_y')\n",
    "        axs[2].scatter(time_tmp[ind,:],angular_momentum_z_tmp[ind,:],label = title)\n",
    "        axs[2].set_ylabel('h_z')\n",
    "        axs[2].legend()"
   ]
  },
  {
   "cell_type": "code",
   "execution_count": null,
   "metadata": {},
   "outputs": [],
   "source": [
    "def plot_clusters_3d( time_point: int, \n",
    "    clusters: np.ndarray, num_clusters: int,           \n",
    "            angular_momentum_x: np.ndarray,\n",
    "            angular_momentum_y: np.ndarray,\n",
    "            angular_momentum_z: np.ndarray,  axis: int, ax):\n",
    "    plt.cla()\n",
    "    if axis == 0:\n",
    "        for i in range(0,num_clusters):\n",
    "            title = \"Cluster\" + str(i)\n",
    "            # ind  = np.arange(0,angular_momentum_x[clusters == i].shape[1],100)\n",
    "            ind = time_point\n",
    "            ax.scatter(angular_momentum_x[clusters == i][:,ind],angular_momentum_y[clusters == i][:,ind],angular_momentum_z[clusters == i][:,ind], s = 40 , label = title)\n",
    "    elif axis == 1:\n",
    "        for i in range(0,num_clusters):\n",
    "            title = \"Cluster\" + str(i)\n",
    "            ind  = np.arange(0,angular_momentum_x[:,clusters == i].shape[0],100)\n",
    "            ax.scatter(angular_momentum_x[:,clusters == i][ind],angular_momentum_y[:,clusters == i][ind],angular_momentum_z[:,clusters == i][ind], s = 40 , label = title)\n",
    "    ax.set_xlabel('h_x')\n",
    "    ax.set_ylabel('h_y')\n",
    "    ax.set_zlabel('h_z')\n",
    "    ax.set_xlim([-50000, 50000])\n",
    "    ax.set_ylim([-50000, 50000])\n",
    "    ax.set_zlim([30500, 32000])\n",
    "    ax.legend()"
   ]
  },
  {
   "cell_type": "code",
   "execution_count": null,
   "metadata": {},
   "outputs": [],
   "source": [
    "kmeans = KMeans(n_clusters=8, random_state=0)\n",
    "x_clusters = kmeans.fit_predict(angular_momentum_x)\n",
    "y_clusters = kmeans.fit_predict(angular_momentum_y)\n",
    "z_clusters = kmeans.fit_predict(angular_momentum_z)\n",
    "\n",
    "fig1 = plt.figure(figsize = (10,10))\n",
    "ax1 = fig1.add_subplot(111, projection='3d')\n",
    "plot_clusters_3d(0,x_clusters,8,angular_momentum_x,angular_momentum_y,angular_momentum_z,0, ax1)\n",
    "plt.ion()\n",
    "plt.show()\n",
    "plt.ioff()\n"
   ]
  },
  {
   "cell_type": "code",
   "execution_count": null,
   "metadata": {},
   "outputs": [],
   "source": [
    "plt.close()\n",
    "\n",
    "\n",
    "plot_time_clusters(x_clusters, 8, angular_momentum_x,angular_momentum_y,angular_momentum_z, time, 0)"
   ]
  },
  {
   "cell_type": "code",
   "execution_count": null,
   "metadata": {},
   "outputs": [],
   "source": [
    "plt.close()\n",
    "print(time[:,::20].shape[1])\n",
    "ts_fig = plt.figure(figsize = (10, 10))\n",
    "ax = ts_fig.add_subplot(111, projection='3d')\n",
    "\n",
    "anim = animation.FuncAnimation(ts_fig, \n",
    "                                plot_clusters_3d, \n",
    "                                frames=time.shape[1], \n",
    "                                interval=20, \n",
    "                                fargs=(z_clusters,8,angular_momentum_x,angular_momentum_y,angular_momentum_z,0,ax),\n",
    "                                blit=True,\n",
    "                                repeat_delay=200)\n",
    "\n",
    "plt.show()"
   ]
  },
  {
   "cell_type": "code",
   "execution_count": null,
   "metadata": {},
   "outputs": [],
   "source": [
    "fig2 = plt.figure(figsize = (10,10))\n",
    "ax2 = fig2.add_subplot(111, projection='3d')\n",
    "plot_clusters_3d(0,y_clusters,8,angular_momentum_x,angular_momentum_y,angular_momentum_z,0,ax2)\n",
    "plt.ion()\n",
    "plt.show()\n",
    "\n",
    "plot_time_clusters(y_clusters, 8, angular_momentum_x,angular_momentum_y,angular_momentum_z, time, 0)"
   ]
  },
  {
   "cell_type": "code",
   "execution_count": null,
   "metadata": {},
   "outputs": [],
   "source": [
    "fig3 = plt.figure(figsize = (10,10))\n",
    "ax3 = fig3.add_subplot(111, projection='3d')\n",
    "plot_clusters_3d(0,z_clusters,8,angular_momentum_x,angular_momentum_y,angular_momentum_z,0,ax3)\n",
    "plt.ion()\n",
    "plt.show()\n",
    "\n",
    "plot_time_clusters(z_clusters, 8, angular_momentum_x,angular_momentum_y,angular_momentum_z, time, 0)"
   ]
  },
  {
   "cell_type": "code",
   "execution_count": null,
   "metadata": {},
   "outputs": [],
   "source": [
    "x_clusters = kmeans.fit_predict(np.transpose(angular_momentum_x))\n",
    "y_clusters = kmeans.fit_predict(np.transpose(angular_momentum_y))\n",
    "z_clusters = kmeans.fit_predict(np.transpose(angular_momentum_z))\n",
    "\n",
    "\n",
    "plot_clusters_3d(0,x_clusters,8,angular_momentum_x,angular_momentum_y,angular_momentum_z,1)\n",
    "plot_time_clusters(x_clusters, 8, angular_momentum_x,angular_momentum_y,angular_momentum_z, time, 1)\n",
    "\n",
    "plot_clusters_3d(0,y_clusters,8,angular_momentum_x,angular_momentum_y,angular_momentum_z,1)\n",
    "plot_time_clusters(y_clusters, 8, angular_momentum_x,angular_momentum_y,angular_momentum_z, time, 1)\n",
    "\n",
    "plot_clusters_3d(0,z_clusters,8,angular_momentum_x,angular_momentum_y,angular_momentum_z,1)\n",
    "plot_time_clusters(z_clusters, 8, angular_momentum_x,angular_momentum_y,angular_momentum_z, time, 1)"
   ]
  },
  {
   "cell_type": "code",
   "execution_count": null,
   "metadata": {},
   "outputs": [],
   "source": [
    "# PLOT RADIUS AS A FUNCTION OF TIME\n",
    "# PLOT AVERAGE OF  EACH CLUSTER\n"
   ]
  },
  {
   "cell_type": "code",
   "execution_count": null,
   "metadata": {},
   "outputs": [],
   "source": [
    "fig = plt.figure(figsize = (15,15))\n",
    "ax = fig.add_subplot(111, projection='3d')\n",
    "ax.scatter(angular_momentum_x[0,:],angular_momentum_y[0,:],angular_momentum_z[0,:], s = 40 )\n",
    "ax.set_xlabel('h_x')\n",
    "ax.set_ylabel('h_y')\n",
    "ax.set_zlabel('h_z')\n",
    "plt.show()"
   ]
  },
  {
   "cell_type": "code",
   "execution_count": null,
   "metadata": {},
   "outputs": [],
   "source": []
  }
 ],
 "metadata": {
  "interpreter": {
   "hash": "b5e0254fe8834982339270a9bd1c26bceb03d573ba0502c6b5a700f375a532f6"
  },
  "kernelspec": {
   "display_name": "Python 3 (ipykernel)",
   "language": "python",
   "name": "python3"
  },
  "language_info": {
   "codemirror_mode": {
    "name": "ipython",
    "version": 3
   },
   "file_extension": ".py",
   "mimetype": "text/x-python",
   "name": "python",
   "nbconvert_exporter": "python",
   "pygments_lexer": "ipython3",
   "version": "3.10.4"
  }
 },
 "nbformat": 4,
 "nbformat_minor": 2
}
